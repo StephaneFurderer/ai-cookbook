{
  "cells": [
    {
      "cell_type": "markdown",
      "metadata": {},
      "source": [
        "# Hurricane Helene (2024) - Air Travel Insurance Impact Analysis\n",
        "\n",
        "This notebook demonstrates the complete hurricane impact analysis workflow using Hurricane Helene from September 23, 2024 as a case study.\n",
        "\n",
        "## Overview\n",
        "\n",
        "Hurricane Helene developed in the Atlantic on September 23, 2024, providing an excellent example for:\n",
        "- Hurricane track prediction and uncertainty modeling\n",
        "- Airport impact assessment for Atlantic region\n",
        "- Insurance exposure calculation for flight delays\n",
        "\n",
        "## Analysis Steps\n",
        "\n",
        "1. **Data Acquisition**: Download hurricane track data from Google DeepMind WeatherLab\n",
        "2. **Hurricane Analysis**: Parse tracks, create impact zones, and assess intensity\n",
        "3. **Airport Impact**: Identify affected airports and estimate traveler exposure\n",
        "4. **Insurance Calculation**: Calculate potential claims and financial exposure\n",
        "5. **Visualization**: Create interactive maps and dashboards\n",
        "\n",
        "---\n"
      ]
    },
    {
      "cell_type": "markdown",
      "metadata": {},
      "source": [
        "## 1. Setup and Imports\n"
      ]
    },
    {
      "cell_type": "code",
      "execution_count": 6,
      "metadata": {},
      "outputs": [
        {
          "name": "stdout",
          "output_type": "stream",
          "text": [
            "✅ All imports successful!\n"
          ]
        }
      ],
      "source": [
        "# Import required libraries\n",
        "import sys\n",
        "import os\n",
        "import pandas as pd\n",
        "import numpy as np\n",
        "import matplotlib.pyplot as plt\n",
        "import seaborn as sns\n",
        "from datetime import datetime\n",
        "import warnings\n",
        "warnings.filterwarnings('ignore')\n",
        "\n",
        "# Add parent directory to path to import our modules\n",
        "sys.path.append('..')\n",
        "\n",
        "# Import our hurricane analysis modules\n",
        "from data_fetcher import HurricaneDataFetcher\n",
        "from hurricane_analyzer import HurricaneAnalyzer\n",
        "from airport_impact import AirportImpact\n",
        "from insurance_calculator import InsuranceCalculator\n",
        "from visualizer import HurricaneVisualizer\n",
        "from pipeline import HurricaneImpactPipeline\n",
        "# Set up plotting style\n",
        "plt.style.use('seaborn-v0_8')\n",
        "sns.set_palette(\"husl\")\n",
        "\n",
        "print(\"✅ All imports successful!\")\n"
      ]
    },
    {
      "cell_type": "code",
      "execution_count": 7,
      "metadata": {},
      "outputs": [
        {
          "name": "stderr",
          "output_type": "stream",
          "text": [
            "INFO:pipeline:Pipeline initialized. Output directory: /Users/sf/Applications/ai-cookbook/WeatherImpact/notebooks/../outputs/run_20251015_141352\n"
          ]
        }
      ],
      "source": [
        "pipeline = HurricaneImpactPipeline()"
      ]
    },
    {
      "cell_type": "code",
      "execution_count": 8,
      "metadata": {},
      "outputs": [
        {
          "name": "stderr",
          "output_type": "stream",
          "text": [
            "INFO:pipeline:Starting hurricane impact analysis from 2024-09-23 to 2024-09-29\n",
            "INFO:pipeline:Step 1: Downloading hurricane data...\n",
            "INFO:data_fetcher:Using local data file: FNV3_2024_09_23T12_00_paired.csv\n",
            "INFO:data_fetcher:Loaded 5 records from /Users/sf/Applications/ai-cookbook/WeatherImpact/notebooks/../data/FNV3_2024_09_23T12_00_paired.csv\n",
            "INFO:data_fetcher:Successfully loaded data for 2024-09-23: 5 records\n",
            "INFO:data_fetcher:Downloading hurricane data for 2024-09-24 from https://deepmind.google.com/science/weatherlab/download/cyclones/FNV3/ensemble_mean/paired/csv/FNV3_2024-09-24T00_00_paired.csv\n",
            "ERROR:data_fetcher:Failed to download data for 2024-09-24: 404 Client Error: Not Found for url: https://deepmind.google.com/science/weatherlab/download/cyclones/FNV3/ensemble_mean/paired/csv/FNV3_2024-09-24T00_00_paired.csv\n",
            "WARNING:data_fetcher:No data available for 2024-09-24\n",
            "INFO:data_fetcher:Downloading hurricane data for 2024-09-25 from https://deepmind.google.com/science/weatherlab/download/cyclones/FNV3/ensemble_mean/paired/csv/FNV3_2024-09-25T00_00_paired.csv\n",
            "ERROR:data_fetcher:Failed to download data for 2024-09-25: 404 Client Error: Not Found for url: https://deepmind.google.com/science/weatherlab/download/cyclones/FNV3/ensemble_mean/paired/csv/FNV3_2024-09-25T00_00_paired.csv\n",
            "WARNING:data_fetcher:No data available for 2024-09-25\n",
            "INFO:data_fetcher:Downloading hurricane data for 2024-09-26 from https://deepmind.google.com/science/weatherlab/download/cyclones/FNV3/ensemble_mean/paired/csv/FNV3_2024-09-26T00_00_paired.csv\n",
            "ERROR:data_fetcher:Failed to download data for 2024-09-26: 404 Client Error: Not Found for url: https://deepmind.google.com/science/weatherlab/download/cyclones/FNV3/ensemble_mean/paired/csv/FNV3_2024-09-26T00_00_paired.csv\n",
            "WARNING:data_fetcher:No data available for 2024-09-26\n",
            "INFO:data_fetcher:Downloading hurricane data for 2024-09-27 from https://deepmind.google.com/science/weatherlab/download/cyclones/FNV3/ensemble_mean/paired/csv/FNV3_2024-09-27T00_00_paired.csv\n",
            "ERROR:data_fetcher:Failed to download data for 2024-09-27: 404 Client Error: Not Found for url: https://deepmind.google.com/science/weatherlab/download/cyclones/FNV3/ensemble_mean/paired/csv/FNV3_2024-09-27T00_00_paired.csv\n",
            "WARNING:data_fetcher:No data available for 2024-09-27\n",
            "INFO:data_fetcher:Downloading hurricane data for 2024-09-28 from https://deepmind.google.com/science/weatherlab/download/cyclones/FNV3/ensemble_mean/paired/csv/FNV3_2024-09-28T00_00_paired.csv\n",
            "ERROR:data_fetcher:Failed to download data for 2024-09-28: 404 Client Error: Not Found for url: https://deepmind.google.com/science/weatherlab/download/cyclones/FNV3/ensemble_mean/paired/csv/FNV3_2024-09-28T00_00_paired.csv\n",
            "WARNING:data_fetcher:No data available for 2024-09-28\n",
            "INFO:data_fetcher:Downloading hurricane data for 2024-09-29 from https://deepmind.google.com/science/weatherlab/download/cyclones/FNV3/ensemble_mean/paired/csv/FNV3_2024-09-29T00_00_paired.csv\n",
            "ERROR:data_fetcher:Failed to download data for 2024-09-29: 404 Client Error: Not Found for url: https://deepmind.google.com/science/weatherlab/download/cyclones/FNV3/ensemble_mean/paired/csv/FNV3_2024-09-29T00_00_paired.csv\n",
            "WARNING:data_fetcher:No data available for 2024-09-29\n",
            "INFO:pipeline:Downloaded 5 total records\n",
            "INFO:pipeline:Step 2: Analyzing hurricane tracks and impact zones...\n",
            "INFO:hurricane_analyzer:Loaded hurricane AL972024 with 5 data points\n",
            "INFO:hurricane_analyzer:Analyzing hurricane AL972024\n",
            "INFO:pipeline:Step 3: Calculating airport impacts and insurance exposure...\n",
            "INFO:airport_impact:Loaded 32 major airports\n",
            "INFO:airport_impact:Found 0 affected airports with 0 daily travelers\n",
            "INFO:insurance_calculator:Calculated total exposure: $0.00 for 0 potential claims\n",
            "INFO:pipeline:Hurricane AL972024: $0.00 exposure\n",
            "INFO:pipeline:Step 4: Generating visualizations...\n",
            "INFO:visualizer:Interactive map saved to /Users/sf/Applications/ai-cookbook/WeatherImpact/notebooks/../outputs/AL972024_interactive_map_20251015_143245.html\n",
            "INFO:visualizer:Dashboard saved to /Users/sf/Applications/ai-cookbook/WeatherImpact/notebooks/../outputs/AL972024_dashboard_20251015_143245.html\n",
            "INFO:pipeline:Generated visualizations for AL972024:\n",
            "INFO:pipeline:  Map: /Users/sf/Applications/ai-cookbook/WeatherImpact/notebooks/../outputs/AL972024_interactive_map_20251015_143245.html\n",
            "INFO:pipeline:  Dashboard: /Users/sf/Applications/ai-cookbook/WeatherImpact/notebooks/../outputs/AL972024_dashboard_20251015_143245.html\n",
            "INFO:pipeline:Step 5: Generating reports...\n",
            "INFO:pipeline:Reports generated:\n",
            "INFO:pipeline:  Text report: /Users/sf/Applications/ai-cookbook/WeatherImpact/notebooks/../outputs/run_20251015_141352/analysis_report.txt\n",
            "INFO:pipeline:  JSON report: /Users/sf/Applications/ai-cookbook/WeatherImpact/notebooks/../outputs/run_20251015_141352/analysis_results.json\n",
            "INFO:pipeline:Pipeline completed successfully in 1.7 seconds\n",
            "INFO:pipeline:Total exposure across all hurricanes: $0.00\n"
          ]
        },
        {
          "name": "stdout",
          "output_type": "stream",
          "text": [
            "{'pipeline_start_time': datetime.datetime(2025, 10, 15, 14, 32, 43, 524165), 'parameters': {'start_date': '2024-09-23', 'end_date': '2024-09-29', 'hurricane_id': None, 'force_download': False}, 'hurricane_analyses': {'AL972024': {'track_id': 'AL972024', 'trajectory': {'track_id': 'AL972024', 'init_time': Timestamp('2024-09-23 12:00:00'), 'time_points': [Timestamp('2024-09-23 12:00:00'), Timestamp('2024-09-23 18:00:00'), Timestamp('2024-09-24 00:00:00'), Timestamp('2024-09-24 06:00:00'), Timestamp('2024-09-24 12:00:00')], 'coordinates': [(17.2, -81.7), (17.39, -81.83), (17.83, -82.06), (18.25, -82.69), (18.61, -83.42)], 'wind_speeds': [30.0, 27.7, 32.1, 35.6, 38.6], 'pressures': [1004.0, 1005.0, 1003.1, 1001.5, 999.6], 'lead_times': [Timedelta('0 days 00:00:00'), Timedelta('0 days 06:00:00'), Timedelta('0 days 12:00:00'), Timedelta('0 days 18:00:00'), Timedelta('1 days 00:00:00')], 'intensity_history': [{'time': Timestamp('2024-09-23 12:00:00'), 'wind_speed': 30.0, 'pressure': 1004.0, 'category': 'tropical_depression', 'lat': 17.2, 'lon': -81.7}, {'time': Timestamp('2024-09-23 18:00:00'), 'wind_speed': 27.7, 'pressure': 1005.0, 'category': 'tropical_depression', 'lat': 17.39, 'lon': -81.83}, {'time': Timestamp('2024-09-24 00:00:00'), 'wind_speed': 32.1, 'pressure': 1003.1, 'category': 'tropical_depression', 'lat': 17.83, 'lon': -82.06}, {'time': Timestamp('2024-09-24 06:00:00'), 'wind_speed': 35.6, 'pressure': 1001.5, 'category': 'tropical_storm', 'lat': 18.25, 'lon': -82.69}, {'time': Timestamp('2024-09-24 12:00:00'), 'wind_speed': 38.6, 'pressure': 999.6, 'category': 'tropical_storm', 'lat': 18.61, 'lon': -83.42}], 'peak_intensity': {'wind_speed': np.float64(38.6), 'pressure': np.float64(999.6), 'category': 'tropical_storm'}, 'current_status': {'wind_speed': np.float64(38.6), 'pressure': np.float64(999.6), 'category': 'tropical_storm', 'lat': np.float64(18.61), 'lon': np.float64(-83.42), 'time': Timestamp('2024-09-24 12:00:00')}}, 'impact_zones': {'track_id': 'AL972024', 'impact_points': [{'time': Timestamp('2024-09-23 12:00:00'), 'center': (17.2, -81.7), 'radius_km': 100, 'wind_speed': 30.0, 'category': 'tropical_depression', 'geometry': <POLYGON ((-81.7 18.101, -81.339 18.032, -81.033 17.837, -80.829 17.545, -80...>, 'lead_time': Timedelta('0 days 00:00:00')}, {'time': Timestamp('2024-09-23 18:00:00'), 'center': (17.39, -81.83), 'radius_km': np.float64(55.50304114126872), 'wind_speed': 27.7, 'category': 'tropical_depression', 'geometry': <POLYGON ((-81.83 17.89, -81.629 17.852, -81.459 17.744, -81.346 17.581, -81...>, 'lead_time': Timedelta('0 days 06:00:00')}, {'time': Timestamp('2024-09-24 00:00:00'), 'center': (17.83, -82.06), 'radius_km': np.float64(65.72612889070297), 'wind_speed': 32.1, 'category': 'tropical_depression', 'geometry': <POLYGON ((-82.06 18.422, -81.822 18.377, -81.62 18.249, -81.485 18.057, -81...>, 'lead_time': Timedelta('0 days 12:00:00')}, {'time': Timestamp('2024-09-24 06:00:00'), 'center': (18.25, -82.69), 'radius_km': np.float64(75.15384240456235), 'wind_speed': 35.6, 'category': 'tropical_storm', 'geometry': <POLYGON ((-82.69 18.927, -82.417 18.876, -82.186 18.729, -82.031 18.509, -8...>, 'lead_time': Timedelta('0 days 18:00:00')}, {'time': Timestamp('2024-09-24 12:00:00'), 'center': (18.61, -83.42), 'radius_km': np.float64(96.9444944029286), 'wind_speed': 38.6, 'category': 'tropical_storm', 'geometry': <POLYGON ((-83.42 19.483, -83.067 19.417, -82.768 19.228, -82.569 18.944, -8...>, 'lead_time': Timedelta('1 days 00:00:00')}], 'combined_zone': <POLYGON ((-81.033 17.837, -80.829 17.545, -80.757 17.2, -80.829 16.855, -81...>, 'max_impact_radius': 100}, 'analysis_timestamp': datetime.datetime(2025, 10, 15, 14, 32, 45, 20530), 'data_points': 5, 'summary': {'duration_hours': 24.0, 'max_wind_speed': np.float64(38.6), 'min_pressure': np.float64(999.6), 'peak_category': 'tropical_storm', 'current_category': 'tropical_storm', 'track_length_km': 247.7481651310713, 'max_impact_radius': 100}, 'affected_airports': {'track_id': 'AL972024', 'affected_airports': [], 'total_daily_travelers': 0, 'impact_summary': {'total_airports': 0, 'total_travelers': 0, 'high_impact_airports': 0, 'medium_impact_airports': 0, 'low_impact_airports': 0, 'average_delay_hours': 0.0, 'total_delay_hours': 0.0}, 'regional_impact': {}}, 'exposure': {'track_id': 'AL972024', 'calculation_timestamp': datetime.datetime(2025, 10, 15, 14, 32, 45, 48073), 'insurance_params': {'policy_coverage': 'flight_delay_weather', 'delay_threshold_hours': 3, 'payout_per_claim': 500, 'penetration_rate': 0.02, 'claim_rate': 0.6, 'company_name': 'AeroShield Insurance'}, 'airport_exposures': [], 'total_exposure': 0.0, 'total_potential_claims': 0, 'total_potential_payout': 0.0, 'exposure_by_impact_level': {}, 'exposure_by_region': {}, 'risk_metrics': {'total_passengers_at_risk': 0, 'total_affected_airports': 0, 'exposure_per_passenger': 0.0, 'exposure_per_airport': 0.0, 'claim_rate_overall': 0.0, 'severity_score': 0.0, 'concentration_risk': {'concentration_ratio': 0.0, 'top_5_percentage': 0.0}}}}}, 'total_exposure': 0.0, 'summary': {'total_hurricanes': 1, 'total_exposure': 0.0, 'total_affected_airports': 0, 'total_travelers_at_risk': 0, 'total_potential_claims': 0, 'hurricane_summaries': {'AL972024': {'peak_category': 'tropical_storm', 'current_category': 'tropical_storm', 'affected_airports': 0, 'exposure': 0.0, 'risk_score': 0.0}}}, 'pipeline_end_time': datetime.datetime(2025, 10, 15, 14, 32, 45, 200901), 'pipeline_duration': 1.676736}\n"
          ]
        }
      ],
      "source": [
        "start_date = '2024-09-23'\n",
        "end_date = '2024-09-29'\n",
        "results = pipeline.run_analysis(start_date, end_date)\n",
        "\n",
        "# Display results\n",
        "print(results)\n"
      ]
    }
  ],
  "metadata": {
    "kernelspec": {
      "display_name": "Python 3",
      "language": "python",
      "name": "python3"
    },
    "language_info": {
      "codemirror_mode": {
        "name": "ipython",
        "version": 3
      },
      "file_extension": ".py",
      "mimetype": "text/x-python",
      "name": "python",
      "nbconvert_exporter": "python",
      "pygments_lexer": "ipython3",
      "version": "3.12.5"
    }
  },
  "nbformat": 4,
  "nbformat_minor": 2
}

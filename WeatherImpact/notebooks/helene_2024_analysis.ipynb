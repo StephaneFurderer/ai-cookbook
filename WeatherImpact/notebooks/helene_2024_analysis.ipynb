{
  "cells": [
    {
      "cell_type": "markdown",
      "metadata": {},
      "source": [
        "# Hurricane Helene (2024) - Air Travel Insurance Impact Analysis\n",
        "\n",
        "This notebook demonstrates the complete hurricane impact analysis workflow using Hurricane Helene from September 23, 2024 as a case study.\n",
        "\n",
        "## Overview\n",
        "\n",
        "Hurricane Helene developed in the Atlantic on September 23, 2024, providing an excellent example for:\n",
        "- Hurricane track prediction and uncertainty modeling\n",
        "- Airport impact assessment for Atlantic region\n",
        "- Insurance exposure calculation for flight delays\n",
        "\n",
        "## Analysis Steps\n",
        "\n",
        "1. **Data Acquisition**: Download hurricane track data from Google DeepMind WeatherLab\n",
        "2. **Hurricane Analysis**: Parse tracks, create impact zones, and assess intensity\n",
        "3. **Airport Impact**: Identify affected airports and estimate traveler exposure\n",
        "4. **Insurance Calculation**: Calculate potential claims and financial exposure\n",
        "5. **Visualization**: Create interactive maps and dashboards\n",
        "\n",
        "---\n"
      ]
    },
    {
      "cell_type": "markdown",
      "metadata": {},
      "source": [
        "## 1. Setup and Imports\n"
      ]
    },
    {
      "cell_type": "code",
      "execution_count": 2,
      "metadata": {},
      "outputs": [
        {
          "name": "stderr",
          "output_type": "stream",
          "text": [
            "INFO:WeatherImpact.pipeline:Pipeline initialized. Output directory: ../outputs/run_20251015_163952\n"
          ]
        },
        {
          "name": "stdout",
          "output_type": "stream",
          "text": [
            "https://deepmind.google.com/science/weatherlab/download/cyclones/FNV3/ensemble_mean/paired/csv/FNV3_2024_10_23T00_00_paired.csv\n"
          ]
        }
      ],
      "source": [
        "\n",
        "from WeatherImpact import (\n",
        "    HurricaneDataFetcher,\n",
        "    HurricaneAnalyzer,\n",
        "    AirportImpact,\n",
        "    InsuranceCalculator,\n",
        "    HurricaneVisualizer,\n",
        "    HurricaneImpactPipeline\n",
        ")\n",
        "#--------------------------------\n",
        "# Initialize the pipeline\n",
        "#--------------------------------\n",
        "from WeatherImpact.config import get_weatherlab_url\n",
        "url = get_weatherlab_url('2024-10-23')\n",
        "print(url)\n",
        "\n",
        "\n",
        "pipeline = HurricaneImpactPipeline(outputs_dir='../outputs', data_dir='../data')\n",
        "\n",
        "start_date = '2024-10-23'\n",
        "\n",
        "\n"
      ]
    },
    {
      "cell_type": "code",
      "execution_count": 3,
      "metadata": {},
      "outputs": [
        {
          "name": "stderr",
          "output_type": "stream",
          "text": [
            "INFO:WeatherImpact.data_fetcher:Using local data file: FNV3_2024_10_23T00_00_paired.csv\n",
            "INFO:WeatherImpact.data_fetcher:Loaded 70 records from ../data/FNV3_2024_10_23T00_00_paired.csv\n",
            "INFO:WeatherImpact.data_fetcher:Successfully loaded data for 2024-10-23: 70 records\n",
            "INFO:WeatherImpact.pipeline:Downloaded 70 total records\n"
          ]
        },
        {
          "name": "stdout",
          "output_type": "stream",
          "text": [
            "    init_time  track_id  sample          valid_time        lead_time    lat  \\\n",
            "0  2024-10-23  EP122024      -1 2024-10-23 00:00:00  0 days 00:00:00  14.70   \n",
            "1  2024-10-23  EP122024      -1 2024-10-23 06:00:00  0 days 06:00:00  14.57   \n",
            "2  2024-10-23  EP122024      -1 2024-10-23 12:00:00  0 days 12:00:00  14.42   \n",
            "3  2024-10-23  EP122024      -1 2024-10-23 18:00:00  0 days 18:00:00  14.26   \n",
            "4  2024-10-23  EP122024      -1 2024-10-24 00:00:00  1 days 00:00:00  14.16   \n",
            "..        ...       ...     ...                 ...              ...    ...   \n",
            "65 2024-10-23  WP222024      -1 2024-11-02 06:00:00 10 days 06:00:00  16.18   \n",
            "66 2024-10-23  WP222024      -1 2024-11-02 12:00:00 10 days 12:00:00  16.38   \n",
            "67 2024-10-23  WP222024      -1 2024-11-02 18:00:00 10 days 18:00:00  16.20   \n",
            "68 2024-10-23  WP222024      -1 2024-11-03 00:00:00 11 days 00:00:00  16.00   \n",
            "69 2024-10-23  WP222024      -1 2024-11-03 06:00:00 11 days 06:00:00  15.90   \n",
            "\n",
            "       lon  minimum_sea_level_pressure_hpa  \\\n",
            "0  -109.20                           983.0   \n",
            "1  -111.25                           974.8   \n",
            "2  -112.92                           969.3   \n",
            "3  -114.69                           965.6   \n",
            "4  -116.30                           961.0   \n",
            "..     ...                             ...   \n",
            "65  109.64                           998.1   \n",
            "66  109.23                          1000.2   \n",
            "67  108.67                          1000.3   \n",
            "68  107.83                          1001.3   \n",
            "69  107.08                          1001.6   \n",
            "\n",
            "    maximum_sustained_wind_speed_knots  radius_of_maximum_winds_km  ...  \\\n",
            "0                                 70.0                   18.519993  ...   \n",
            "1                                 86.2                   25.427174  ...   \n",
            "2                                 92.3                   26.141257  ...   \n",
            "3                                 97.5                   23.799541  ...   \n",
            "4                                102.5                   22.372043  ...   \n",
            "..                                 ...                         ...  ...   \n",
            "65                                39.3                   58.329953  ...   \n",
            "66                                36.2                   52.380408  ...   \n",
            "67                                36.2                   58.706944  ...   \n",
            "68                                34.3                   65.033970  ...   \n",
            "69                                33.3                   56.347333  ...   \n",
            "\n",
            "    radius_34_knot_winds_sw_km  radius_34_knot_winds_nw_km  \\\n",
            "0                    74.079973                  111.119960   \n",
            "1                    54.268310                   86.814305   \n",
            "2                    56.843978                   89.063575   \n",
            "3                    58.897313                   92.736285   \n",
            "4                    69.117698                   99.641150   \n",
            "..                         ...                         ...   \n",
            "65                   45.690026                   61.491729   \n",
            "66                   32.068372                   43.869758   \n",
            "67                   34.618305                   47.398296   \n",
            "68                   28.511886                   37.574174   \n",
            "69                   28.076490                   35.626985   \n",
            "\n",
            "    radius_50_knot_winds_ne_km  radius_50_knot_winds_se_km  \\\n",
            "0                    55.559980                   55.559980   \n",
            "1                    43.620883                   33.035585   \n",
            "2                    45.104715                   33.754587   \n",
            "3                    46.852274                   34.954095   \n",
            "4                    47.667833                   36.388850   \n",
            "..                         ...                         ...   \n",
            "65                   19.938709                   16.181053   \n",
            "66                   11.435130                    9.035954   \n",
            "67                   10.382572                    8.458929   \n",
            "68                    7.666790                    6.063018   \n",
            "69                   13.603591                   11.535302   \n",
            "\n",
            "    radius_50_knot_winds_sw_km  radius_50_knot_winds_nw_km  \\\n",
            "0                    37.039987                   55.559980   \n",
            "1                    25.114031                   37.459045   \n",
            "2                    25.274675                   38.606725   \n",
            "3                    27.385926                   41.072995   \n",
            "4                    28.624426                   41.789541   \n",
            "..                         ...                         ...   \n",
            "65                   12.677159                   16.694671   \n",
            "66                    7.118511                    9.605091   \n",
            "67                    6.558344                    8.781691   \n",
            "68                    4.887832                    6.590634   \n",
            "69                    9.092849                   11.403072   \n",
            "\n",
            "    radius_64_knot_winds_ne_km  radius_64_knot_winds_se_km  \\\n",
            "0                    18.519993                    0.000000   \n",
            "1                    19.584188                   15.331277   \n",
            "2                    21.089357                   16.427247   \n",
            "3                    22.779249                   17.862466   \n",
            "4                    24.288350                   19.496078   \n",
            "..                         ...                         ...   \n",
            "65                    4.089799                    3.306578   \n",
            "66                    2.736935                    2.242557   \n",
            "67                    2.389827                    1.993287   \n",
            "68                    2.386704                    2.026683   \n",
            "69                    2.672548                    2.150846   \n",
            "\n",
            "    radius_64_knot_winds_sw_km  radius_64_knot_winds_nw_km  \n",
            "0                     0.000000                   18.519993  \n",
            "1                    12.404404                   17.054527  \n",
            "2                    13.406494                   18.540788  \n",
            "3                    14.859967                   20.294848  \n",
            "4                    16.461884                   21.794463  \n",
            "..                         ...                         ...  \n",
            "65                    2.636984                    3.571582  \n",
            "66                    1.878273                    2.425807  \n",
            "67                    1.703960                    2.089776  \n",
            "68                    1.727946                    2.132430  \n",
            "69                    1.727821                    2.283675  \n",
            "\n",
            "[70 rows x 22 columns]\n"
          ]
        }
      ],
      "source": [
        "hurricane_data = pipeline._download_data(start_date,force_download=True)\n",
        "print(hurricane_data)"
      ]
    },
    {
      "cell_type": "code",
      "execution_count": 9,
      "metadata": {},
      "outputs": [
        {
          "name": "stderr",
          "output_type": "stream",
          "text": [
            "INFO:WeatherImpact.hurricane_analyzer:Loaded hurricane EP122024 with 24 data points\n",
            "INFO:WeatherImpact.hurricane_analyzer:Loaded hurricane WP222024 with 46 data points\n"
          ]
        },
        {
          "name": "stderr",
          "output_type": "stream",
          "text": [
            "INFO:WeatherImpact.hurricane_analyzer:Analyzing hurricane EP122024\n",
            "INFO:WeatherImpact.hurricane_analyzer:Analyzing hurricane WP222024\n"
          ]
        },
        {
          "name": "stdout",
          "output_type": "stream",
          "text": [
            "{'EP122024': {'track_id': 'EP122024', 'trajectory': {'track_id': 'EP122024', 'init_time': Timestamp('2024-10-23 00:00:00'), 'time_points': [Timestamp('2024-10-23 00:00:00'), Timestamp('2024-10-23 06:00:00'), Timestamp('2024-10-23 12:00:00'), Timestamp('2024-10-23 18:00:00'), Timestamp('2024-10-24 00:00:00'), Timestamp('2024-10-24 06:00:00'), Timestamp('2024-10-24 12:00:00'), Timestamp('2024-10-24 18:00:00'), Timestamp('2024-10-25 00:00:00'), Timestamp('2024-10-25 06:00:00'), Timestamp('2024-10-25 12:00:00'), Timestamp('2024-10-25 18:00:00'), Timestamp('2024-10-26 00:00:00'), Timestamp('2024-10-26 06:00:00'), Timestamp('2024-10-26 12:00:00'), Timestamp('2024-10-26 18:00:00'), Timestamp('2024-10-27 00:00:00'), Timestamp('2024-10-27 06:00:00'), Timestamp('2024-10-27 12:00:00'), Timestamp('2024-10-27 18:00:00'), Timestamp('2024-10-28 00:00:00'), Timestamp('2024-10-28 06:00:00'), Timestamp('2024-10-28 12:00:00'), Timestamp('2024-10-28 18:00:00')], 'coordinates': [(14.7, -109.2), (14.57, -111.25), (14.42, -112.92), (14.26, -114.69), (14.16, -116.3), (14.1, -117.99), (14.1, -119.51), (14.11, -121.06), (14.42, -122.42), (14.88, -123.65), (15.47, -124.75), (16.2, -125.87), (17.03, -126.89), (17.95, -127.79), (18.95, -128.64), (20.05, -129.38), (21.09, -129.95), (21.97, -130.1), (22.49, -130.23), (22.64, -130.35), (22.6, -130.77), (22.34, -131.11), (21.81, -132.27), (21.15, -133.61)], 'wind_speeds': [70.0, 86.2, 92.3, 97.5, 102.5, 101.1, 103.5, 108.5, 110.3, 108.9, 100.7, 96.2, 91.3, 82.7, 76.2, 68.8, 59.8, 51.0, 42.4, 35.4, 30.8, 28.3, 26.9, 26.5], 'pressures': [983.0, 974.8, 969.3, 965.6, 961.0, 962.7, 959.8, 956.5, 953.0, 955.0, 960.7, 965.3, 968.0, 975.0, 979.8, 985.7, 991.9, 997.2, 1001.7, 1005.3, 1007.0, 1008.4, 1009.4, 1009.5], 'lead_times': [Timedelta('0 days 00:00:00'), Timedelta('0 days 06:00:00'), Timedelta('0 days 12:00:00'), Timedelta('0 days 18:00:00'), Timedelta('1 days 00:00:00'), Timedelta('1 days 06:00:00'), Timedelta('1 days 12:00:00'), Timedelta('1 days 18:00:00'), Timedelta('2 days 00:00:00'), Timedelta('2 days 06:00:00'), Timedelta('2 days 12:00:00'), Timedelta('2 days 18:00:00'), Timedelta('3 days 00:00:00'), Timedelta('3 days 06:00:00'), Timedelta('3 days 12:00:00'), Timedelta('3 days 18:00:00'), Timedelta('4 days 00:00:00'), Timedelta('4 days 06:00:00'), Timedelta('4 days 12:00:00'), Timedelta('4 days 18:00:00'), Timedelta('5 days 00:00:00'), Timedelta('5 days 06:00:00'), Timedelta('5 days 12:00:00'), Timedelta('5 days 18:00:00')], 'intensity_history': [{'time': Timestamp('2024-10-23 00:00:00'), 'wind_speed': 70.0, 'pressure': 983.0, 'category': 'category_1', 'lat': 14.7, 'lon': -109.2}, {'time': Timestamp('2024-10-23 06:00:00'), 'wind_speed': 86.2, 'pressure': 974.8, 'category': 'category_2', 'lat': 14.57, 'lon': -111.25}, {'time': Timestamp('2024-10-23 12:00:00'), 'wind_speed': 92.3, 'pressure': 969.3, 'category': 'category_2', 'lat': 14.42, 'lon': -112.92}, {'time': Timestamp('2024-10-23 18:00:00'), 'wind_speed': 97.5, 'pressure': 965.6, 'category': 'category_3', 'lat': 14.26, 'lon': -114.69}, {'time': Timestamp('2024-10-24 00:00:00'), 'wind_speed': 102.5, 'pressure': 961.0, 'category': 'category_3', 'lat': 14.16, 'lon': -116.3}, {'time': Timestamp('2024-10-24 06:00:00'), 'wind_speed': 101.1, 'pressure': 962.7, 'category': 'category_3', 'lat': 14.1, 'lon': -117.99}, {'time': Timestamp('2024-10-24 12:00:00'), 'wind_speed': 103.5, 'pressure': 959.8, 'category': 'category_3', 'lat': 14.1, 'lon': -119.51}, {'time': Timestamp('2024-10-24 18:00:00'), 'wind_speed': 108.5, 'pressure': 956.5, 'category': 'category_3', 'lat': 14.11, 'lon': -121.06}, {'time': Timestamp('2024-10-25 00:00:00'), 'wind_speed': 110.3, 'pressure': 953.0, 'category': 'category_3', 'lat': 14.42, 'lon': -122.42}, {'time': Timestamp('2024-10-25 06:00:00'), 'wind_speed': 108.9, 'pressure': 955.0, 'category': 'category_3', 'lat': 14.88, 'lon': -123.65}, {'time': Timestamp('2024-10-25 12:00:00'), 'wind_speed': 100.7, 'pressure': 960.7, 'category': 'category_3', 'lat': 15.47, 'lon': -124.75}, {'time': Timestamp('2024-10-25 18:00:00'), 'wind_speed': 96.2, 'pressure': 965.3, 'category': 'category_3', 'lat': 16.2, 'lon': -125.87}, {'time': Timestamp('2024-10-26 00:00:00'), 'wind_speed': 91.3, 'pressure': 968.0, 'category': 'category_2', 'lat': 17.03, 'lon': -126.89}, {'time': Timestamp('2024-10-26 06:00:00'), 'wind_speed': 82.7, 'pressure': 975.0, 'category': 'unknown', 'lat': 17.95, 'lon': -127.79}, {'time': Timestamp('2024-10-26 12:00:00'), 'wind_speed': 76.2, 'pressure': 979.8, 'category': 'category_1', 'lat': 18.95, 'lon': -128.64}, {'time': Timestamp('2024-10-26 18:00:00'), 'wind_speed': 68.8, 'pressure': 985.7, 'category': 'category_1', 'lat': 20.05, 'lon': -129.38}, {'time': Timestamp('2024-10-27 00:00:00'), 'wind_speed': 59.8, 'pressure': 991.9, 'category': 'tropical_storm', 'lat': 21.09, 'lon': -129.95}, {'time': Timestamp('2024-10-27 06:00:00'), 'wind_speed': 51.0, 'pressure': 997.2, 'category': 'tropical_storm', 'lat': 21.97, 'lon': -130.1}, {'time': Timestamp('2024-10-27 12:00:00'), 'wind_speed': 42.4, 'pressure': 1001.7, 'category': 'tropical_storm', 'lat': 22.49, 'lon': -130.23}, {'time': Timestamp('2024-10-27 18:00:00'), 'wind_speed': 35.4, 'pressure': 1005.3, 'category': 'tropical_storm', 'lat': 22.64, 'lon': -130.35}, {'time': Timestamp('2024-10-28 00:00:00'), 'wind_speed': 30.8, 'pressure': 1007.0, 'category': 'tropical_depression', 'lat': 22.6, 'lon': -130.77}, {'time': Timestamp('2024-10-28 06:00:00'), 'wind_speed': 28.3, 'pressure': 1008.4, 'category': 'tropical_depression', 'lat': 22.34, 'lon': -131.11}, {'time': Timestamp('2024-10-28 12:00:00'), 'wind_speed': 26.9, 'pressure': 1009.4, 'category': 'tropical_depression', 'lat': 21.81, 'lon': -132.27}, {'time': Timestamp('2024-10-28 18:00:00'), 'wind_speed': 26.5, 'pressure': 1009.5, 'category': 'tropical_depression', 'lat': 21.15, 'lon': -133.61}], 'peak_intensity': {'wind_speed': np.float64(110.3), 'pressure': np.float64(953.0), 'category': 'category_3'}, 'current_status': {'wind_speed': np.float64(26.5), 'pressure': np.float64(1009.5), 'category': 'tropical_depression', 'lat': np.float64(21.15), 'lon': np.float64(-133.61), 'time': Timestamp('2024-10-28 18:00:00')}}, 'impact_zones': {'track_id': 'EP122024', 'impact_points': [{'time': Timestamp('2024-10-23 00:00:00'), 'center': (14.7, -109.2), 'radius_km': np.float64(142.59996629361225), 'wind_speed': 70.0, 'category': 'category_1', 'geometry': <POLYGON ((-109.2 15.985, -108.692 15.887, -108.261 15.608, -107.973 15.192,...>, 'lead_time': Timedelta('0 days 00:00:00')}, {'time': Timestamp('2024-10-23 06:00:00'), 'center': (14.57, -111.25), 'radius_km': np.float64(130.07041574478149), 'wind_speed': 86.2, 'category': 'category_2', 'geometry': <POLYGON ((-111.25 15.742, -110.787 15.653, -110.394 15.399, -110.131 15.018...>, 'lead_time': Timedelta('0 days 06:00:00')}, {'time': Timestamp('2024-10-23 12:00:00'), 'center': (14.42, -112.92), 'radius_km': np.float64(133.18605459213256), 'wind_speed': 92.3, 'category': 'category_2', 'geometry': <POLYGON ((-112.92 15.62, -112.446 15.529, -112.044 15.268, -111.775 14.879,...>, 'lead_time': Timedelta('0 days 12:00:00')}, {'time': Timestamp('2024-10-23 18:00:00'), 'center': (14.26, -114.69), 'radius_km': np.float64(134.5555436706543), 'wind_speed': 97.5, 'category': 'category_3', 'geometry': <POLYGON ((-114.69 15.472, -114.211 15.38, -113.806 15.117, -113.534 14.724,...>, 'lead_time': Timedelta('0 days 18:00:00')}, {'time': Timestamp('2024-10-24 00:00:00'), 'center': (14.16, -116.3), 'radius_km': np.float64(143.9664297866821), 'wind_speed': 102.5, 'category': 'category_3', 'geometry': <POLYGON ((-116.3 15.457, -115.788 15.358, -115.354 15.077, -115.064 14.656,...>, 'lead_time': Timedelta('1 days 00:00:00')}, {'time': Timestamp('2024-10-24 06:00:00'), 'center': (14.1, -117.99), 'radius_km': np.float64(148.49716051101683), 'wind_speed': 101.1, 'category': 'category_3', 'geometry': <POLYGON ((-117.99 15.438, -117.462 15.336, -117.015 15.046, -116.716 14.612...>, 'lead_time': Timedelta('1 days 06:00:00')}, {'time': Timestamp('2024-10-24 12:00:00'), 'center': (14.1, -119.51), 'radius_km': np.float64(154.87553178787232), 'wind_speed': 103.5, 'category': 'category_3', 'geometry': <POLYGON ((-119.51 15.495, -118.959 15.389, -118.493 15.087, -118.181 14.634...>, 'lead_time': Timedelta('1 days 12:00:00')}, {'time': Timestamp('2024-10-24 18:00:00'), 'center': (14.11, -121.06), 'radius_km': np.float64(155.5045383262634), 'wind_speed': 108.5, 'category': 'category_3', 'geometry': <POLYGON ((-121.06 15.511, -120.507 15.404, -120.039 15.101, -119.725 14.646...>, 'lead_time': Timedelta('1 days 18:00:00')}, {'time': Timestamp('2024-10-25 00:00:00'), 'center': (14.42, -122.42), 'radius_km': np.float64(174.64567096710203), 'wind_speed': 110.3, 'category': 'category_3', 'geometry': <POLYGON ((-122.42 15.993, -121.798 15.874, -121.271 15.533, -120.919 15.022...>, 'lead_time': Timedelta('2 days 00:00:00')}, {'time': Timestamp('2024-10-25 06:00:00'), 'center': (14.88, -123.65), 'radius_km': np.float64(166.55975133895873), 'wind_speed': 108.9, 'category': 'category_3', 'geometry': <POLYGON ((-123.65 16.381, -123.056 16.266, -122.552 15.941, -122.216 15.454...>, 'lead_time': Timedelta('2 days 06:00:00')}, {'time': Timestamp('2024-10-25 12:00:00'), 'center': (15.47, -124.75), 'radius_km': np.float64(172.78650945663452), 'wind_speed': 100.7, 'category': 'category_3', 'geometry': <POLYGON ((-124.75 17.027, -124.132 16.908, -123.608 16.571, -123.258 16.066...>, 'lead_time': Timedelta('2 days 12:00:00')}, {'time': Timestamp('2024-10-25 18:00:00'), 'center': (16.2, -125.87), 'radius_km': np.float64(176.36769575119018), 'wind_speed': 96.2, 'category': 'category_3', 'geometry': <POLYGON ((-125.87 17.789, -125.237 17.668, -124.7 17.324, -124.341 16.808, ...>, 'lead_time': Timedelta('2 days 18:00:00')}, {'time': Timestamp('2024-10-26 00:00:00'), 'center': (17.03, -126.89), 'radius_km': np.float64(185.63740924835207), 'wind_speed': 91.3, 'category': 'category_2', 'geometry': <POLYGON ((-126.89 18.702, -126.221 18.575, -125.653 18.213, -125.274 17.67,...>, 'lead_time': Timedelta('3 days 00:00:00')}, {'time': Timestamp('2024-10-26 06:00:00'), 'center': (17.95, -127.79), 'radius_km': np.float64(187.45509954452515), 'wind_speed': 82.7, 'category': 'unknown', 'geometry': <POLYGON ((-127.79 19.639, -127.111 19.51, -126.535 19.144, -126.15 18.596, ...>, 'lead_time': Timedelta('3 days 06:00:00')}, {'time': Timestamp('2024-10-26 12:00:00'), 'center': (18.95, -128.64), 'radius_km': np.float64(176.11173082351684), 'wind_speed': 76.2, 'category': 'category_1', 'geometry': <POLYGON ((-128.64 20.537, -127.998 20.416, -127.454 20.072, -127.09 19.557,...>, 'lead_time': Timedelta('3 days 12:00:00')}, {'time': Timestamp('2024-10-26 18:00:00'), 'center': (20.05, -129.38), 'radius_km': np.float64(174.97428369522095), 'wind_speed': 68.8, 'category': 'category_1', 'geometry': <POLYGON ((-129.38 21.626, -128.738 21.506, -128.193 21.165, -127.83 20.653,...>, 'lead_time': Timedelta('3 days 18:00:00')}, {'time': Timestamp('2024-10-27 00:00:00'), 'center': (21.09, -129.95), 'radius_km': np.float64(181.07347776412965), 'wind_speed': 59.8, 'category': 'tropical_storm', 'geometry': <POLYGON ((-129.95 22.721, -129.281 22.597, -128.714 22.243, -128.335 21.714...>, 'lead_time': Timedelta('4 days 00:00:00')}, {'time': Timestamp('2024-10-27 06:00:00'), 'center': (21.97, -130.1), 'radius_km': np.float64(154.96457718586436), 'wind_speed': 51.0, 'category': 'tropical_storm', 'geometry': <POLYGON ((-130.1 23.366, -129.524 23.26, -129.036 22.957, -128.709 22.504, ...>, 'lead_time': Timedelta('4 days 06:00:00')}, {'time': Timestamp('2024-10-27 12:00:00'), 'center': (22.49, -130.23), 'radius_km': np.float64(126.77365617583297), 'wind_speed': 42.4, 'category': 'tropical_storm', 'geometry': <POLYGON ((-130.23 23.632, -129.757 23.545, -129.356 23.298, -129.088 22.927...>, 'lead_time': Timedelta('4 days 12:00:00')}, {'time': Timestamp('2024-10-27 18:00:00'), 'center': (22.64, -130.35), 'radius_km': np.float64(101.10162940078104), 'wind_speed': 35.4, 'category': 'tropical_storm', 'geometry': <POLYGON ((-130.35 23.551, -129.972 23.481, -129.652 23.284, -129.438 22.989...>, 'lead_time': Timedelta('4 days 18:00:00')}, {'time': Timestamp('2024-10-28 00:00:00'), 'center': (22.6, -130.77), 'radius_km': np.float64(65.08701306539885), 'wind_speed': 30.8, 'category': 'tropical_depression', 'geometry': <POLYGON ((-130.77 23.186, -130.527 23.142, -130.321 23.015, -130.183 22.824...>, 'lead_time': Timedelta('5 days 00:00:00')}, {'time': Timestamp('2024-10-28 06:00:00'), 'center': (22.34, -131.11), 'radius_km': np.float64(52.80174517050373), 'wind_speed': 28.3, 'category': 'tropical_depression', 'geometry': <POLYGON ((-131.11 22.816, -130.913 22.779, -130.746 22.676, -130.635 22.522...>, 'lead_time': Timedelta('5 days 06:00:00')}, {'time': Timestamp('2024-10-28 12:00:00'), 'center': (21.81, -132.27), 'radius_km': np.float64(53.07298500020283), 'wind_speed': 26.9, 'category': 'tropical_depression', 'geometry': <POLYGON ((-132.27 22.288, -132.073 22.252, -131.906 22.148, -131.794 21.993...>, 'lead_time': Timedelta('5 days 12:00:00')}, {'time': Timestamp('2024-10-28 18:00:00'), 'center': (21.15, -133.61), 'radius_km': np.float64(55.11689448106462), 'wind_speed': 26.5, 'category': 'tropical_depression', 'geometry': <POLYGON ((-133.61 21.647, -133.406 21.609, -133.234 21.501, -133.118 21.34,...>, 'lead_time': Timedelta('5 days 18:00:00')}], 'combined_zone': <MULTIPOLYGON (((-127.559 15.485, -128.127 15.847, -128.506 16.39, -128.511 ...>, 'max_impact_radius': np.float64(187.45509954452515)}, 'analysis_timestamp': datetime.datetime(2025, 10, 15, 16, 54, 31, 945098), 'data_points': 24, 'summary': {'duration_hours': 138.0, 'max_wind_speed': np.float64(110.3), 'min_pressure': np.float64(953.0), 'peak_category': 'category_3', 'current_category': 'tropical_depression', 'track_length_km': 3110.476206441664, 'max_impact_radius': np.float64(187.45509954452515)}}, 'WP222024': {'track_id': 'WP222024', 'trajectory': {'track_id': 'WP222024', 'init_time': Timestamp('2024-10-23 00:00:00'), 'time_points': [Timestamp('2024-10-23 00:00:00'), Timestamp('2024-10-23 06:00:00'), Timestamp('2024-10-23 12:00:00'), Timestamp('2024-10-23 18:00:00'), Timestamp('2024-10-24 00:00:00'), Timestamp('2024-10-24 06:00:00'), Timestamp('2024-10-24 12:00:00'), Timestamp('2024-10-24 18:00:00'), Timestamp('2024-10-25 00:00:00'), Timestamp('2024-10-25 06:00:00'), Timestamp('2024-10-25 12:00:00'), Timestamp('2024-10-25 18:00:00'), Timestamp('2024-10-26 00:00:00'), Timestamp('2024-10-26 06:00:00'), Timestamp('2024-10-26 12:00:00'), Timestamp('2024-10-26 18:00:00'), Timestamp('2024-10-27 00:00:00'), Timestamp('2024-10-27 06:00:00'), Timestamp('2024-10-27 12:00:00'), Timestamp('2024-10-27 18:00:00'), Timestamp('2024-10-28 00:00:00'), Timestamp('2024-10-28 06:00:00'), Timestamp('2024-10-28 12:00:00'), Timestamp('2024-10-28 18:00:00'), Timestamp('2024-10-29 00:00:00'), Timestamp('2024-10-29 06:00:00'), Timestamp('2024-10-29 12:00:00'), Timestamp('2024-10-29 18:00:00'), Timestamp('2024-10-30 00:00:00'), Timestamp('2024-10-30 06:00:00'), Timestamp('2024-10-30 12:00:00'), Timestamp('2024-10-30 18:00:00'), Timestamp('2024-10-31 00:00:00'), Timestamp('2024-10-31 06:00:00'), Timestamp('2024-10-31 12:00:00'), Timestamp('2024-10-31 18:00:00'), Timestamp('2024-11-01 00:00:00'), Timestamp('2024-11-01 06:00:00'), Timestamp('2024-11-01 12:00:00'), Timestamp('2024-11-01 18:00:00'), Timestamp('2024-11-02 00:00:00'), Timestamp('2024-11-02 06:00:00'), Timestamp('2024-11-02 12:00:00'), Timestamp('2024-11-02 18:00:00'), Timestamp('2024-11-03 00:00:00'), Timestamp('2024-11-03 06:00:00')], 'coordinates': [(15.7, 124.4), (16.4, 123.62), (16.98, 122.84), (17.2, 121.86), (17.09, 121.03), (16.87, 120.48), (17.17, 119.95), (17.47, 119.25), (17.77, 118.27), (17.95, 117.2), (18.06, 116.08), (18.11, 114.83), (18.03, 113.62), (18.0, 112.47), (17.89, 111.52), (17.81, 110.74), (17.58, 110.09), (17.32, 109.69), (16.98, 109.42), (16.65, 109.25), (16.46, 109.5), (16.42, 109.9), (16.3, 110.48), (16.3, 111.09), (16.3, 111.68), (16.29, 112.32), (16.25, 112.95), (16.19, 113.52), (16.11, 114.27), (16.07, 114.91), (15.83, 115.36), (15.68, 115.65), (15.64, 115.77), (15.41, 115.48), (15.28, 115.26), (15.28, 114.68), (15.39, 114.04), (15.46, 113.21), (15.61, 112.44), (15.8, 111.49), (15.99, 110.61), (16.18, 109.64), (16.38, 109.23), (16.2, 108.67), (16.0, 107.83), (15.9, 107.08)], 'wind_speeds': [45.0, 49.7, 49.0, 47.0, 43.8, 45.7, 45.1, 48.0, 50.8, 54.9, 57.6, 61.3, 60.8, 57.2, 51.3, 44.0, 39.5, 36.9, 34.4, 32.9, 31.3, 29.7, 28.0, 27.3, 27.0, 27.2, 26.5, 28.2, 29.0, 28.8, 31.2, 33.0, 34.3, 37.7, 40.1, 42.0, 43.5, 43.5, 44.7, 44.3, 41.7, 39.3, 36.2, 36.2, 34.3, 33.3], 'pressures': [989.0, 984.7, 986.0, 986.7, 988.3, 987.1, 987.7, 986.7, 986.1, 984.0, 982.9, 981.0, 981.5, 984.3, 987.9, 992.3, 995.2, 996.2, 997.2, 998.2, 999.0, 999.4, 1000.4, 1000.8, 1001.3, 1001.0, 1001.8, 1001.2, 1001.4, 1001.3, 1000.6, 999.9, 999.3, 997.1, 996.3, 995.3, 994.5, 994.8, 994.5, 995.0, 997.0, 998.1, 1000.2, 1000.3, 1001.3, 1001.6], 'lead_times': [Timedelta('0 days 00:00:00'), Timedelta('0 days 06:00:00'), Timedelta('0 days 12:00:00'), Timedelta('0 days 18:00:00'), Timedelta('1 days 00:00:00'), Timedelta('1 days 06:00:00'), Timedelta('1 days 12:00:00'), Timedelta('1 days 18:00:00'), Timedelta('2 days 00:00:00'), Timedelta('2 days 06:00:00'), Timedelta('2 days 12:00:00'), Timedelta('2 days 18:00:00'), Timedelta('3 days 00:00:00'), Timedelta('3 days 06:00:00'), Timedelta('3 days 12:00:00'), Timedelta('3 days 18:00:00'), Timedelta('4 days 00:00:00'), Timedelta('4 days 06:00:00'), Timedelta('4 days 12:00:00'), Timedelta('4 days 18:00:00'), Timedelta('5 days 00:00:00'), Timedelta('5 days 06:00:00'), Timedelta('5 days 12:00:00'), Timedelta('5 days 18:00:00'), Timedelta('6 days 00:00:00'), Timedelta('6 days 06:00:00'), Timedelta('6 days 12:00:00'), Timedelta('6 days 18:00:00'), Timedelta('7 days 00:00:00'), Timedelta('7 days 06:00:00'), Timedelta('7 days 12:00:00'), Timedelta('7 days 18:00:00'), Timedelta('8 days 00:00:00'), Timedelta('8 days 06:00:00'), Timedelta('8 days 12:00:00'), Timedelta('8 days 18:00:00'), Timedelta('9 days 00:00:00'), Timedelta('9 days 06:00:00'), Timedelta('9 days 12:00:00'), Timedelta('9 days 18:00:00'), Timedelta('10 days 00:00:00'), Timedelta('10 days 06:00:00'), Timedelta('10 days 12:00:00'), Timedelta('10 days 18:00:00'), Timedelta('11 days 00:00:00'), Timedelta('11 days 06:00:00')], 'intensity_history': [{'time': Timestamp('2024-10-23 00:00:00'), 'wind_speed': 45.0, 'pressure': 989.0, 'category': 'tropical_storm', 'lat': 15.7, 'lon': 124.4}, {'time': Timestamp('2024-10-23 06:00:00'), 'wind_speed': 49.7, 'pressure': 984.7, 'category': 'tropical_storm', 'lat': 16.4, 'lon': 123.62}, {'time': Timestamp('2024-10-23 12:00:00'), 'wind_speed': 49.0, 'pressure': 986.0, 'category': 'tropical_storm', 'lat': 16.98, 'lon': 122.84}, {'time': Timestamp('2024-10-23 18:00:00'), 'wind_speed': 47.0, 'pressure': 986.7, 'category': 'tropical_storm', 'lat': 17.2, 'lon': 121.86}, {'time': Timestamp('2024-10-24 00:00:00'), 'wind_speed': 43.8, 'pressure': 988.3, 'category': 'tropical_storm', 'lat': 17.09, 'lon': 121.03}, {'time': Timestamp('2024-10-24 06:00:00'), 'wind_speed': 45.7, 'pressure': 987.1, 'category': 'tropical_storm', 'lat': 16.87, 'lon': 120.48}, {'time': Timestamp('2024-10-24 12:00:00'), 'wind_speed': 45.1, 'pressure': 987.7, 'category': 'tropical_storm', 'lat': 17.17, 'lon': 119.95}, {'time': Timestamp('2024-10-24 18:00:00'), 'wind_speed': 48.0, 'pressure': 986.7, 'category': 'tropical_storm', 'lat': 17.47, 'lon': 119.25}, {'time': Timestamp('2024-10-25 00:00:00'), 'wind_speed': 50.8, 'pressure': 986.1, 'category': 'tropical_storm', 'lat': 17.77, 'lon': 118.27}, {'time': Timestamp('2024-10-25 06:00:00'), 'wind_speed': 54.9, 'pressure': 984.0, 'category': 'tropical_storm', 'lat': 17.95, 'lon': 117.2}, {'time': Timestamp('2024-10-25 12:00:00'), 'wind_speed': 57.6, 'pressure': 982.9, 'category': 'tropical_storm', 'lat': 18.06, 'lon': 116.08}, {'time': Timestamp('2024-10-25 18:00:00'), 'wind_speed': 61.3, 'pressure': 981.0, 'category': 'tropical_storm', 'lat': 18.11, 'lon': 114.83}, {'time': Timestamp('2024-10-26 00:00:00'), 'wind_speed': 60.8, 'pressure': 981.5, 'category': 'tropical_storm', 'lat': 18.03, 'lon': 113.62}, {'time': Timestamp('2024-10-26 06:00:00'), 'wind_speed': 57.2, 'pressure': 984.3, 'category': 'tropical_storm', 'lat': 18.0, 'lon': 112.47}, {'time': Timestamp('2024-10-26 12:00:00'), 'wind_speed': 51.3, 'pressure': 987.9, 'category': 'tropical_storm', 'lat': 17.89, 'lon': 111.52}, {'time': Timestamp('2024-10-26 18:00:00'), 'wind_speed': 44.0, 'pressure': 992.3, 'category': 'tropical_storm', 'lat': 17.81, 'lon': 110.74}, {'time': Timestamp('2024-10-27 00:00:00'), 'wind_speed': 39.5, 'pressure': 995.2, 'category': 'tropical_storm', 'lat': 17.58, 'lon': 110.09}, {'time': Timestamp('2024-10-27 06:00:00'), 'wind_speed': 36.9, 'pressure': 996.2, 'category': 'tropical_storm', 'lat': 17.32, 'lon': 109.69}, {'time': Timestamp('2024-10-27 12:00:00'), 'wind_speed': 34.4, 'pressure': 997.2, 'category': 'tropical_storm', 'lat': 16.98, 'lon': 109.42}, {'time': Timestamp('2024-10-27 18:00:00'), 'wind_speed': 32.9, 'pressure': 998.2, 'category': 'tropical_depression', 'lat': 16.65, 'lon': 109.25}, {'time': Timestamp('2024-10-28 00:00:00'), 'wind_speed': 31.3, 'pressure': 999.0, 'category': 'tropical_depression', 'lat': 16.46, 'lon': 109.5}, {'time': Timestamp('2024-10-28 06:00:00'), 'wind_speed': 29.7, 'pressure': 999.4, 'category': 'tropical_depression', 'lat': 16.42, 'lon': 109.9}, {'time': Timestamp('2024-10-28 12:00:00'), 'wind_speed': 28.0, 'pressure': 1000.4, 'category': 'tropical_depression', 'lat': 16.3, 'lon': 110.48}, {'time': Timestamp('2024-10-28 18:00:00'), 'wind_speed': 27.3, 'pressure': 1000.8, 'category': 'tropical_depression', 'lat': 16.3, 'lon': 111.09}, {'time': Timestamp('2024-10-29 00:00:00'), 'wind_speed': 27.0, 'pressure': 1001.3, 'category': 'tropical_depression', 'lat': 16.3, 'lon': 111.68}, {'time': Timestamp('2024-10-29 06:00:00'), 'wind_speed': 27.2, 'pressure': 1001.0, 'category': 'tropical_depression', 'lat': 16.29, 'lon': 112.32}, {'time': Timestamp('2024-10-29 12:00:00'), 'wind_speed': 26.5, 'pressure': 1001.8, 'category': 'tropical_depression', 'lat': 16.25, 'lon': 112.95}, {'time': Timestamp('2024-10-29 18:00:00'), 'wind_speed': 28.2, 'pressure': 1001.2, 'category': 'tropical_depression', 'lat': 16.19, 'lon': 113.52}, {'time': Timestamp('2024-10-30 00:00:00'), 'wind_speed': 29.0, 'pressure': 1001.4, 'category': 'tropical_depression', 'lat': 16.11, 'lon': 114.27}, {'time': Timestamp('2024-10-30 06:00:00'), 'wind_speed': 28.8, 'pressure': 1001.3, 'category': 'tropical_depression', 'lat': 16.07, 'lon': 114.91}, {'time': Timestamp('2024-10-30 12:00:00'), 'wind_speed': 31.2, 'pressure': 1000.6, 'category': 'tropical_depression', 'lat': 15.83, 'lon': 115.36}, {'time': Timestamp('2024-10-30 18:00:00'), 'wind_speed': 33.0, 'pressure': 999.9, 'category': 'unknown', 'lat': 15.68, 'lon': 115.65}, {'time': Timestamp('2024-10-31 00:00:00'), 'wind_speed': 34.3, 'pressure': 999.3, 'category': 'tropical_storm', 'lat': 15.64, 'lon': 115.77}, {'time': Timestamp('2024-10-31 06:00:00'), 'wind_speed': 37.7, 'pressure': 997.1, 'category': 'tropical_storm', 'lat': 15.41, 'lon': 115.48}, {'time': Timestamp('2024-10-31 12:00:00'), 'wind_speed': 40.1, 'pressure': 996.3, 'category': 'tropical_storm', 'lat': 15.28, 'lon': 115.26}, {'time': Timestamp('2024-10-31 18:00:00'), 'wind_speed': 42.0, 'pressure': 995.3, 'category': 'tropical_storm', 'lat': 15.28, 'lon': 114.68}, {'time': Timestamp('2024-11-01 00:00:00'), 'wind_speed': 43.5, 'pressure': 994.5, 'category': 'tropical_storm', 'lat': 15.39, 'lon': 114.04}, {'time': Timestamp('2024-11-01 06:00:00'), 'wind_speed': 43.5, 'pressure': 994.8, 'category': 'tropical_storm', 'lat': 15.46, 'lon': 113.21}, {'time': Timestamp('2024-11-01 12:00:00'), 'wind_speed': 44.7, 'pressure': 994.5, 'category': 'tropical_storm', 'lat': 15.61, 'lon': 112.44}, {'time': Timestamp('2024-11-01 18:00:00'), 'wind_speed': 44.3, 'pressure': 995.0, 'category': 'tropical_storm', 'lat': 15.8, 'lon': 111.49}, {'time': Timestamp('2024-11-02 00:00:00'), 'wind_speed': 41.7, 'pressure': 997.0, 'category': 'tropical_storm', 'lat': 15.99, 'lon': 110.61}, {'time': Timestamp('2024-11-02 06:00:00'), 'wind_speed': 39.3, 'pressure': 998.1, 'category': 'tropical_storm', 'lat': 16.18, 'lon': 109.64}, {'time': Timestamp('2024-11-02 12:00:00'), 'wind_speed': 36.2, 'pressure': 1000.2, 'category': 'tropical_storm', 'lat': 16.38, 'lon': 109.23}, {'time': Timestamp('2024-11-02 18:00:00'), 'wind_speed': 36.2, 'pressure': 1000.3, 'category': 'tropical_storm', 'lat': 16.2, 'lon': 108.67}, {'time': Timestamp('2024-11-03 00:00:00'), 'wind_speed': 34.3, 'pressure': 1001.3, 'category': 'tropical_storm', 'lat': 16.0, 'lon': 107.83}, {'time': Timestamp('2024-11-03 06:00:00'), 'wind_speed': 33.3, 'pressure': 1001.6, 'category': 'unknown', 'lat': 15.9, 'lon': 107.08}], 'peak_intensity': {'wind_speed': np.float64(61.3), 'pressure': np.float64(981.0), 'category': 'tropical_storm'}, 'current_status': {'wind_speed': np.float64(33.3), 'pressure': np.float64(1001.6), 'category': 'unknown', 'lat': np.float64(15.9), 'lon': np.float64(107.08), 'time': Timestamp('2024-11-03 06:00:00')}}, 'impact_zones': {'track_id': 'WP222024', 'impact_points': [{'time': Timestamp('2024-10-23 00:00:00'), 'center': (15.7, 124.4), 'radius_km': np.float64(341.68989382487865), 'wind_speed': 45.0, 'category': 'tropical_storm', 'geometry': <POLYGON ((124.4 18.778, 125.624 18.544, 126.661 17.877, 127.354 16.878, 127...>, 'lead_time': Timedelta('0 days 00:00:00')}, {'time': Timestamp('2024-10-23 06:00:00'), 'center': (16.4, 123.62), 'radius_km': np.float64(214.8787279987335), 'wind_speed': 49.7, 'category': 'tropical_storm', 'geometry': <POLYGON ((123.62 18.336, 124.392 18.188, 125.047 17.769, 125.484 17.141, 12...>, 'lead_time': Timedelta('0 days 06:00:00')}, {'time': Timestamp('2024-10-23 12:00:00'), 'center': (16.98, 122.84), 'radius_km': np.float64(202.5796564292908), 'wind_speed': 49.0, 'category': 'tropical_storm', 'geometry': <POLYGON ((122.84 18.805, 123.57 18.666, 124.189 18.27, 124.603 17.678, 124....>, 'lead_time': Timedelta('0 days 12:00:00')}, {'time': Timestamp('2024-10-23 18:00:00'), 'center': (17.2, 121.86), 'radius_km': np.float64(161.16225709915162), 'wind_speed': 47.0, 'category': 'tropical_storm', 'geometry': <POLYGON ((121.86 18.652, 122.442 18.541, 122.935 18.227, 123.264 17.756, 12...>, 'lead_time': Timedelta('0 days 18:00:00')}, {'time': Timestamp('2024-10-24 00:00:00'), 'center': (17.09, 121.03), 'radius_km': np.float64(158.57206480026247), 'wind_speed': 43.8, 'category': 'tropical_storm', 'geometry': <POLYGON ((121.03 18.519, 121.602 18.41, 122.087 18.1, 122.411 17.637, 122.5...>, 'lead_time': Timedelta('1 days 00:00:00')}, {'time': Timestamp('2024-10-24 06:00:00'), 'center': (16.87, 120.48), 'radius_km': np.float64(151.66144829273225), 'wind_speed': 45.7, 'category': 'tropical_storm', 'geometry': <POLYGON ((120.48 18.236, 121.026 18.132, 121.49 17.836, 121.799 17.393, 121...>, 'lead_time': Timedelta('1 days 06:00:00')}, {'time': Timestamp('2024-10-24 12:00:00'), 'center': (17.17, 119.95), 'radius_km': np.float64(162.7375616788864), 'wind_speed': 45.1, 'category': 'tropical_storm', 'geometry': <POLYGON ((119.95 18.636, 120.537 18.525, 121.035 18.207, 121.368 17.731, 12...>, 'lead_time': Timedelta('1 days 12:00:00')}, {'time': Timestamp('2024-10-24 18:00:00'), 'center': (17.47, 119.25), 'radius_km': np.float64(211.45696857452393), 'wind_speed': 48.0, 'category': 'tropical_storm', 'geometry': <POLYGON ((119.25 19.375, 120.014 19.23, 120.662 18.817, 121.095 18.199, 121...>, 'lead_time': Timedelta('1 days 18:00:00')}, {'time': Timestamp('2024-10-25 00:00:00'), 'center': (17.77, 118.27), 'radius_km': np.float64(252.2178960132599), 'wind_speed': 50.8, 'category': 'tropical_storm', 'geometry': <POLYGON ((118.27 20.042, 119.183 19.869, 119.957 19.377, 120.474 18.64, 120...>, 'lead_time': Timedelta('2 days 00:00:00')}, {'time': Timestamp('2024-10-25 06:00:00'), 'center': (17.95, 117.2), 'radius_km': np.float64(272.85687618255616), 'wind_speed': 54.9, 'category': 'tropical_storm', 'geometry': <POLYGON ((117.2 20.408, 118.189 20.221, 119.027 19.688, 119.587 18.891, 119...>, 'lead_time': Timedelta('2 days 06:00:00')}, {'time': Timestamp('2024-10-25 12:00:00'), 'center': (18.06, 116.08), 'radius_km': np.float64(288.37968696594237), 'wind_speed': 57.6, 'category': 'tropical_storm', 'geometry': <POLYGON ((116.08 20.658, 117.126 20.46, 118.012 19.897, 118.605 19.054, 118...>, 'lead_time': Timedelta('2 days 12:00:00')}, {'time': Timestamp('2024-10-25 18:00:00'), 'center': (18.11, 114.83), 'radius_km': np.float64(269.8557044219971), 'wind_speed': 61.3, 'category': 'tropical_storm', 'geometry': <POLYGON ((114.83 20.541, 115.809 20.356, 116.639 19.829, 117.193 19.04, 117...>, 'lead_time': Timedelta('2 days 18:00:00')}, {'time': Timestamp('2024-10-26 00:00:00'), 'center': (18.03, 113.62), 'radius_km': np.float64(251.59271589279174), 'wind_speed': 60.8, 'category': 'tropical_storm', 'geometry': <POLYGON ((113.62 20.297, 114.532 20.124, 115.305 19.633, 115.822 18.897, 11...>, 'lead_time': Timedelta('3 days 00:00:00')}, {'time': Timestamp('2024-10-26 06:00:00'), 'center': (18.0, 112.47), 'radius_km': np.float64(228.37374395370483), 'wind_speed': 57.2, 'category': 'tropical_storm', 'geometry': <POLYGON ((112.47 20.057, 113.298 19.901, 114 19.455, 114.469 18.787, 114.63...>, 'lead_time': Timedelta('3 days 06:00:00')}, {'time': Timestamp('2024-10-26 12:00:00'), 'center': (17.89, 111.52), 'radius_km': np.float64(199.21159229278564), 'wind_speed': 51.3, 'category': 'tropical_storm', 'geometry': <POLYGON ((111.52 19.685, 112.242 19.548, 112.854 19.159, 113.262 18.577, 11...>, 'lead_time': Timedelta('3 days 12:00:00')}, {'time': Timestamp('2024-10-26 18:00:00'), 'center': (17.81, 110.74), 'radius_km': np.float64(155.32681139446794), 'wind_speed': 44.0, 'category': 'tropical_storm', 'geometry': <POLYGON ((110.74 19.209, 111.302 19.103, 111.779 18.799, 112.098 18.346, 11...>, 'lead_time': Timedelta('3 days 18:00:00')}, {'time': Timestamp('2024-10-27 00:00:00'), 'center': (17.58, 110.09), 'radius_km': np.float64(127.30956152745523), 'wind_speed': 39.5, 'category': 'tropical_storm', 'geometry': <POLYGON ((110.09 18.727, 110.55 18.64, 110.941 18.391, 111.202 18.019, 111....>, 'lead_time': Timedelta('4 days 00:00:00')}, {'time': Timestamp('2024-10-27 06:00:00'), 'center': (17.32, 109.69), 'radius_km': np.float64(104.1011550079705), 'wind_speed': 36.9, 'category': 'tropical_storm', 'geometry': <POLYGON ((109.69 18.258, 110.066 18.186, 110.385 17.983, 110.598 17.679, 11...>, 'lead_time': Timedelta('4 days 06:00:00')}, {'time': Timestamp('2024-10-27 12:00:00'), 'center': (16.98, 109.42), 'radius_km': np.float64(86.64703759224153), 'wind_speed': 34.4, 'category': 'tropical_storm', 'geometry': <POLYGON ((109.42 17.761, 109.732 17.701, 109.997 17.532, 110.174 17.279, 11...>, 'lead_time': Timedelta('4 days 12:00:00')}, {'time': Timestamp('2024-10-27 18:00:00'), 'center': (16.65, 109.25), 'radius_km': np.float64(77.31848247933667), 'wind_speed': 32.9, 'category': 'tropical_depression', 'geometry': <POLYGON ((109.25 17.347, 109.528 17.294, 109.764 17.143, 109.922 16.917, 10...>, 'lead_time': Timedelta('4 days 18:00:00')}, {'time': Timestamp('2024-10-28 00:00:00'), 'center': (16.46, 109.5), 'radius_km': np.float64(76.91518069083594), 'wind_speed': 31.3, 'category': 'tropical_depression', 'geometry': <POLYGON ((109.5 17.153, 109.777 17.1, 110.011 16.95, 110.168 16.725, 110.22...>, 'lead_time': Timedelta('5 days 00:00:00')}, {'time': Timestamp('2024-10-28 06:00:00'), 'center': (16.42, 109.9), 'radius_km': np.float64(73.47439844244902), 'wind_speed': 29.7, 'category': 'tropical_depression', 'geometry': <POLYGON ((109.9 17.082, 110.164 17.032, 110.388 16.888, 110.538 16.673, 110...>, 'lead_time': Timedelta('5 days 06:00:00')}, {'time': Timestamp('2024-10-28 12:00:00'), 'center': (16.3, 110.48), 'radius_km': np.float64(66.28248424507062), 'wind_speed': 28.0, 'category': 'tropical_depression', 'geometry': <POLYGON ((110.48 16.897, 110.718 16.852, 110.92 16.722, 111.055 16.529, 111...>, 'lead_time': Timedelta('5 days 12:00:00')}, {'time': Timestamp('2024-10-28 18:00:00'), 'center': (16.3, 111.09), 'radius_km': np.float64(66.57590738368647), 'wind_speed': 27.3, 'category': 'tropical_depression', 'geometry': <POLYGON ((111.09 16.9, 111.329 16.854, 111.532 16.724, 111.667 16.53, 111.7...>, 'lead_time': Timedelta('5 days 18:00:00')}, {'time': Timestamp('2024-10-29 00:00:00'), 'center': (16.3, 111.68), 'radius_km': np.float64(61.87277145557649), 'wind_speed': 27.0, 'category': 'tropical_depression', 'geometry': <POLYGON ((111.68 16.857, 111.902 16.815, 112.091 16.694, 112.217 16.513, 11...>, 'lead_time': Timedelta('6 days 00:00:00')}, {'time': Timestamp('2024-10-29 06:00:00'), 'center': (16.29, 112.32), 'radius_km': np.float64(64.26140522626035), 'wind_speed': 27.2, 'category': 'tropical_depression', 'geometry': <POLYGON ((112.32 16.869, 112.551 16.825, 112.746 16.699, 112.877 16.512, 11...>, 'lead_time': Timedelta('6 days 06:00:00')}, {'time': Timestamp('2024-10-29 12:00:00'), 'center': (16.25, 112.95), 'radius_km': np.float64(67.08210164273623), 'wind_speed': 26.5, 'category': 'tropical_depression', 'geometry': <POLYGON ((112.95 16.854, 113.191 16.808, 113.395 16.677, 113.532 16.481, 11...>, 'lead_time': Timedelta('6 days 12:00:00')}, {'time': Timestamp('2024-10-29 18:00:00'), 'center': (16.19, 113.52), 'radius_km': np.float64(66.26885005712393), 'wind_speed': 28.2, 'category': 'tropical_depression', 'geometry': <POLYGON ((113.52 16.787, 113.758 16.742, 113.96 16.612, 114.094 16.418, 114...>, 'lead_time': Timedelta('6 days 18:00:00')}, {'time': Timestamp('2024-10-30 00:00:00'), 'center': (16.11, 114.27), 'radius_km': np.float64(75.17731711828705), 'wind_speed': 29.0, 'category': 'tropical_depression', 'geometry': <POLYGON ((114.27 16.787, 114.54 16.736, 114.768 16.589, 114.921 16.369, 114...>, 'lead_time': Timedelta('7 days 00:00:00')}, {'time': Timestamp('2024-10-30 06:00:00'), 'center': (16.07, 114.91), 'radius_km': np.float64(72.70653344355424), 'wind_speed': 28.8, 'category': 'tropical_depression', 'geometry': <POLYGON ((114.91 16.725, 115.171 16.675, 115.392 16.533, 115.54 16.321, 115...>, 'lead_time': Timedelta('7 days 06:00:00')}, {'time': Timestamp('2024-10-30 12:00:00'), 'center': (15.83, 115.36), 'radius_km': np.float64(81.07430209162541), 'wind_speed': 31.2, 'category': 'tropical_depression', 'geometry': <POLYGON ((115.36 16.56, 115.651 16.505, 115.897 16.346, 116.061 16.11, 116....>, 'lead_time': Timedelta('7 days 12:00:00')}, {'time': Timestamp('2024-10-30 18:00:00'), 'center': (15.68, 115.65), 'radius_km': np.float64(89.55283743826053), 'wind_speed': 33.0, 'category': 'unknown', 'geometry': <POLYGON ((115.65 16.487, 115.971 16.425, 116.243 16.25, 116.424 15.989, 116...>, 'lead_time': Timedelta('7 days 18:00:00')}, {'time': Timestamp('2024-10-31 00:00:00'), 'center': (15.64, 115.77), 'radius_km': np.float64(87.99430211049815), 'wind_speed': 34.3, 'category': 'tropical_storm', 'geometry': <POLYGON ((115.77 16.433, 116.085 16.372, 116.352 16.201, 116.531 15.943, 11...>, 'lead_time': Timedelta('8 days 00:00:00')}, {'time': Timestamp('2024-10-31 06:00:00'), 'center': (15.41, 115.48), 'radius_km': np.float64(100.09189997949976), 'wind_speed': 37.7, 'category': 'tropical_storm', 'geometry': <POLYGON ((115.48 16.312, 115.838 16.243, 116.141 16.048, 116.344 15.755, 11...>, 'lead_time': Timedelta('8 days 06:00:00')}, {'time': Timestamp('2024-10-31 12:00:00'), 'center': (15.28, 115.26), 'radius_km': np.float64(103.47690765627405), 'wind_speed': 40.1, 'category': 'tropical_storm', 'geometry': <POLYGON ((115.26 16.212, 115.63 16.141, 115.943 15.939, 116.153 15.637, 116...>, 'lead_time': Timedelta('8 days 12:00:00')}, {'time': Timestamp('2024-10-31 18:00:00'), 'center': (15.28, 114.68), 'radius_km': np.float64(108.93711470317001), 'wind_speed': 42.0, 'category': 'tropical_storm', 'geometry': <POLYGON ((114.68 16.261, 115.069 16.187, 115.399 15.974, 115.62 15.656, 115...>, 'lead_time': Timedelta('8 days 18:00:00')}, {'time': Timestamp('2024-11-01 00:00:00'), 'center': (15.39, 114.04), 'radius_km': np.float64(122.81288017772815), 'wind_speed': 43.5, 'category': 'tropical_storm', 'geometry': <POLYGON ((114.04 16.496, 114.479 16.412, 114.851 16.172, 115.1 15.813, 115....>, 'lead_time': Timedelta('9 days 00:00:00')}, {'time': Timestamp('2024-11-01 06:00:00'), 'center': (15.46, 113.21), 'radius_km': np.float64(112.55142207536846), 'wind_speed': 43.5, 'category': 'tropical_storm', 'geometry': <POLYGON ((113.21 16.474, 113.613 16.397, 113.954 16.177, 114.182 15.848, 11...>, 'lead_time': Timedelta('9 days 06:00:00')}, {'time': Timestamp('2024-11-01 12:00:00'), 'center': (15.61, 112.44), 'radius_km': np.float64(120.41008588135115), 'wind_speed': 44.7, 'category': 'tropical_storm', 'geometry': <POLYGON ((112.44 16.695, 112.871 16.612, 113.236 16.377, 113.481 16.025, 11...>, 'lead_time': Timedelta('9 days 12:00:00')}, {'time': Timestamp('2024-11-01 18:00:00'), 'center': (15.8, 111.49), 'radius_km': np.float64(113.08869344879112), 'wind_speed': 44.3, 'category': 'tropical_storm', 'geometry': <POLYGON ((111.49 16.819, 111.895 16.741, 112.239 16.52, 112.468 16.19, 112....>, 'lead_time': Timedelta('9 days 18:00:00')}, {'time': Timestamp('2024-11-02 00:00:00'), 'center': (15.99, 110.61), 'radius_km': np.float64(109.39045517337183), 'wind_speed': 41.7, 'category': 'tropical_storm', 'geometry': <POLYGON ((110.61 16.975, 111.002 16.9, 111.335 16.687, 111.557 16.367, 111....>, 'lead_time': Timedelta('10 days 00:00:00')}, {'time': Timestamp('2024-11-02 06:00:00'), 'center': (16.18, 109.64), 'radius_km': np.float64(108.15566216799063), 'wind_speed': 39.3, 'category': 'tropical_storm', 'geometry': <POLYGON ((109.64 17.154, 110.028 17.08, 110.357 16.869, 110.577 16.553, 110...>, 'lead_time': Timedelta('10 days 06:00:00')}, {'time': Timestamp('2024-11-02 12:00:00'), 'center': (16.38, 109.23), 'radius_km': np.float64(90.77173271497043), 'wind_speed': 36.2, 'category': 'tropical_storm', 'geometry': <POLYGON ((109.23 17.198, 109.556 17.136, 109.833 16.958, 110.017 16.693, 11...>, 'lead_time': Timedelta('10 days 12:00:00')}, {'time': Timestamp('2024-11-02 18:00:00'), 'center': (16.2, 108.67), 'radius_km': np.float64(94.47213717235718), 'wind_speed': 36.2, 'category': 'tropical_storm', 'geometry': <POLYGON ((108.67 17.051, 109.009 16.986, 109.297 16.802, 109.489 16.526, 10...>, 'lead_time': Timedelta('10 days 18:00:00')}, {'time': Timestamp('2024-11-03 00:00:00'), 'center': (16.0, 107.83), 'radius_km': np.float64(85.3081906760792), 'wind_speed': 34.3, 'category': 'tropical_storm', 'geometry': <POLYGON ((107.83 16.769, 108.136 16.71, 108.395 16.543, 108.569 16.294, 108...>, 'lead_time': Timedelta('11 days 00:00:00')}, {'time': Timestamp('2024-11-03 06:00:00'), 'center': (15.9, 107.08), 'radius_km': np.float64(84.08255121636796), 'wind_speed': 33.3, 'category': 'unknown', 'geometry': <POLYGON ((107.08 16.658, 107.381 16.6, 107.637 16.436, 107.808 16.19, 107.8...>, 'lead_time': Timedelta('11 days 06:00:00')}], 'combined_zone': <POLYGON ((111.085 14.859, 110.801 15.041, 110.61 15.005, 110.218 15.08, 109...>, 'max_impact_radius': np.float64(341.68989382487865)}, 'analysis_timestamp': datetime.datetime(2025, 10, 15, 16, 54, 31, 956587), 'data_points': 46, 'summary': {'duration_hours': 270.0, 'max_wind_speed': np.float64(61.3), 'min_pressure': np.float64(981.0), 'peak_category': 'tropical_storm', 'current_category': 'unknown', 'track_length_km': 3433.995517082601, 'max_impact_radius': np.float64(341.68989382487865)}}}\n"
          ]
        }
      ],
      "source": [
        "hurricane_analyses = pipeline._analyze_hurricanes(hurricane_data)\n",
        "print(hurricane_analyses)"
      ]
    },
    {
      "cell_type": "code",
      "execution_count": 7,
      "metadata": {},
      "outputs": [
        {
          "data": {
            "text/plain": [
              "'EP122024'"
            ]
          },
          "execution_count": 7,
          "metadata": {},
          "output_type": "execute_result"
        }
      ],
      "source": [
        "track_id = hurricane_data['track_id'].iloc[0]\n",
        "track_id"
      ]
    },
    {
      "cell_type": "code",
      "execution_count": null,
      "metadata": {},
      "outputs": [],
      "source": [
        "start_date = '2024-09-23'\n",
        "end_date = '2024-09-29'\n",
        "results = pipeline.run_analysis(start_date, end_date)\n",
        "\n",
        "# Display results\n",
        "print(results)\n"
      ]
    }
  ],
  "metadata": {
    "kernelspec": {
      "display_name": "venv",
      "language": "python",
      "name": "python3"
    },
    "language_info": {
      "codemirror_mode": {
        "name": "ipython",
        "version": 3
      },
      "file_extension": ".py",
      "mimetype": "text/x-python",
      "name": "python",
      "nbconvert_exporter": "python",
      "pygments_lexer": "ipython3",
      "version": "3.12.5"
    }
  },
  "nbformat": 4,
  "nbformat_minor": 2
}

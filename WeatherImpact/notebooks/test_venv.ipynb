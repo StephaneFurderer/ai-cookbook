{
 "cells": [
  {
   "cell_type": "markdown",
   "metadata": {},
   "source": [
    "# Test Virtual Environment in Jupyter\n",
    "\n",
    "This notebook tests that our virtual environment is working correctly in Jupyter.\n"
   ]
  },
  {
   "cell_type": "code",
   "execution_count": 1,
   "metadata": {},
   "outputs": [
    {
     "name": "stdout",
     "output_type": "stream",
     "text": [
      "Python executable: /Users/sf/Applications/ai-cookbook/WeatherImpact/venv/bin/python\n",
      "Python path: ['/Library/Frameworks/Python.framework/Versions/3.12/lib/python312.zip', '/Library/Frameworks/Python.framework/Versions/3.12/lib/python3.12', '/Library/Frameworks/Python.framework/Versions/3.12/lib/python3.12/lib-dynload']\n"
     ]
    }
   ],
   "source": [
    "# Test 1: Check Python path\n",
    "import sys\n",
    "print(\"Python executable:\", sys.executable)\n",
    "print(\"Python path:\", sys.path[:3])  # Show first 3 paths\n"
   ]
  },
  {
   "cell_type": "code",
   "execution_count": 2,
   "metadata": {},
   "outputs": [
    {
     "name": "stderr",
     "output_type": "stream",
     "text": [
      "INFO:WeatherImpact.pipeline:Pipeline initialized. Output directory: /Users/sf/Applications/ai-cookbook/WeatherImpact/WeatherImpact/outputs/run_20251015_163459\n"
     ]
    },
    {
     "name": "stdout",
     "output_type": "stream",
     "text": [
      "✅ WeatherImpact package imported successfully!\n",
      "✅ Pipeline initialized successfully!\n",
      "Pipeline type: HurricaneImpactPipeline\n"
     ]
    }
   ],
   "source": [
    "# Test 2: Check if WeatherImpact package is available\n",
    "try:\n",
    "    from WeatherImpact import HurricaneImpactPipeline\n",
    "    print(\"✅ WeatherImpact package imported successfully!\")\n",
    "    \n",
    "    # Test initialization\n",
    "    pipeline = HurricaneImpactPipeline()\n",
    "    print(\"✅ Pipeline initialized successfully!\")\n",
    "    print(f\"Pipeline type: {type(pipeline).__name__}\")\n",
    "    \n",
    "except ImportError as e:\n",
    "    print(f\"❌ Import error: {e}\")\n",
    "except Exception as e:\n",
    "    print(f\"❌ Error: {e}\")\n"
   ]
  },
  {
   "cell_type": "code",
   "execution_count": null,
   "metadata": {},
   "outputs": [],
   "source": []
  }
 ],
 "metadata": {
  "kernelspec": {
   "display_name": "Python (Weather Impact venv)",
   "language": "python",
   "name": "weather-impact"
  },
  "language_info": {
   "codemirror_mode": {
    "name": "ipython",
    "version": 3
   },
   "file_extension": ".py",
   "mimetype": "text/x-python",
   "name": "python",
   "nbconvert_exporter": "python",
   "pygments_lexer": "ipython3",
   "version": "3.12.5"
  }
 },
 "nbformat": 4,
 "nbformat_minor": 4
}
